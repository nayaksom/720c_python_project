{
  "nbformat": 4,
  "nbformat_minor": 0,
  "metadata": {
    "colab": {
      "name": "720C_Final_Project_Analysis",
      "provenance": [],
      "collapsed_sections": [],
      "mount_file_id": "1HM2Dn2IqHYwPsyHQkuYdRKR51t2V1gLY",
      "authorship_tag": "ABX9TyPhDPHEZ1ZYbs7eWpTOfEWw",
      "include_colab_link": true
    },
    "kernelspec": {
      "name": "python3",
      "display_name": "Python 3"
    }
  },
  "cells": [
    {
      "cell_type": "markdown",
      "metadata": {
        "id": "view-in-github",
        "colab_type": "text"
      },
      "source": [
        "<a href=\"https://colab.research.google.com/github/nayaksom/720c_python_project/blob/master/720C_Final_Project_Analysis.ipynb\" target=\"_parent\"><img src=\"https://colab.research.google.com/assets/colab-badge.svg\" alt=\"Open In Colab\"/></a>"
      ]
    },
    {
      "cell_type": "code",
      "metadata": {
        "id": "kxzok3Nfq8-d",
        "colab_type": "code",
        "colab": {}
      },
      "source": [
        "# 720C\n",
        "\n",
        "# Group Name:           Netflix and Chill\n",
        "# Group Members:        1. Guneet Thakral\n",
        "#                       2. Lokesh Batra\n",
        "#                       3. Nishant Agarwal\n",
        "#                       4. Shivani Deshmukh\n",
        "#                       5. Som Nayak"
      ],
      "execution_count": 0,
      "outputs": []
    },
    {
      "cell_type": "code",
      "metadata": {
        "id": "IryyopEe7R7W",
        "colab_type": "code",
        "colab": {}
      },
      "source": [
        "import pandas as pd"
      ],
      "execution_count": 0,
      "outputs": []
    },
    {
      "cell_type": "code",
      "metadata": {
        "id": "NtKlhtecROjS",
        "colab_type": "code",
        "colab": {}
      },
      "source": [
        "training_df = pd.read_csv(\"/content/drive/My Drive/MBA/720C Introduction to Python/Final Project/imdb_ratings.csv\")"
      ],
      "execution_count": 0,
      "outputs": []
    }
  ]
}